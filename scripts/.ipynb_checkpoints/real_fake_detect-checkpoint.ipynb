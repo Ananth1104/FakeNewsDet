{
 "cells": [
  {
   "cell_type": "markdown",
   "metadata": {},
   "source": [
    "## Loading Dataset"
   ]
  },
  {
   "cell_type": "code",
   "execution_count": 1,
   "metadata": {},
   "outputs": [],
   "source": [
    "# Standard data processing libraries\n",
    "import pandas as pd\n",
    "\n",
    "# Natural language processing libraries\n",
    "from sklearn.feature_extraction.text import CountVectorizer\n",
    "\n",
    "# Machine learning libraries\n",
    "from sklearn.model_selection import train_test_split\n",
    "from sklearn.naive_bayes import MultinomialNB\n",
    "from sklearn.neighbors import KNeighborsClassifier\n",
    "from sklearn.ensemble import RandomForestClassifier\n",
    "from sklearn.pipeline import Pipeline\n",
    "from sklearn.metrics import accuracy_score, classification_report\n",
    "\n",
    "# Import necessary libraries\n",
    "from sklearn.metrics import confusion_matrix\n",
    "import matplotlib.pyplot as plt\n",
    "import seaborn as sns"
   ]
  },
  {
   "cell_type": "code",
   "execution_count": 2,
   "metadata": {},
   "outputs": [],
   "source": [
    "true_df = pd.read_csv(\"True.csv\")\n",
    "false_df = pd.read_csv(\"Fake.csv\")"
   ]
  },
  {
   "cell_type": "code",
   "execution_count": 3,
   "metadata": {},
   "outputs": [
    {
     "data": {
      "text/html": [
       "<div>\n",
       "<style scoped>\n",
       "    .dataframe tbody tr th:only-of-type {\n",
       "        vertical-align: middle;\n",
       "    }\n",
       "\n",
       "    .dataframe tbody tr th {\n",
       "        vertical-align: top;\n",
       "    }\n",
       "\n",
       "    .dataframe thead th {\n",
       "        text-align: right;\n",
       "    }\n",
       "</style>\n",
       "<table border=\"1\" class=\"dataframe\">\n",
       "  <thead>\n",
       "    <tr style=\"text-align: right;\">\n",
       "      <th></th>\n",
       "      <th>title</th>\n",
       "      <th>text</th>\n",
       "      <th>subject</th>\n",
       "      <th>date</th>\n",
       "    </tr>\n",
       "  </thead>\n",
       "  <tbody>\n",
       "    <tr>\n",
       "      <th>12246</th>\n",
       "      <td>Trump discusses North Korea situation with Put...</td>\n",
       "      <td>WASHINGTON (Reuters) - U.S. President Trump sp...</td>\n",
       "      <td>worldnews</td>\n",
       "      <td>December 14, 2017</td>\n",
       "    </tr>\n",
       "    <tr>\n",
       "      <th>1763</th>\n",
       "      <td>Former Trump adviser Flynn's son being probed ...</td>\n",
       "      <td>WASHINGTON (Reuters) - The son of U.S. Preside...</td>\n",
       "      <td>politicsNews</td>\n",
       "      <td>September 13, 2017</td>\n",
       "    </tr>\n",
       "    <tr>\n",
       "      <th>19231</th>\n",
       "      <td>Iraq asks U.N. for help to build new nuclear p...</td>\n",
       "      <td>NEW YORK (Reuters) - Iraq asked on Saturday fo...</td>\n",
       "      <td>worldnews</td>\n",
       "      <td>September 23, 2017</td>\n",
       "    </tr>\n",
       "    <tr>\n",
       "      <th>6371</th>\n",
       "      <td>Biden knocks Trump for Nazi reference, critici...</td>\n",
       "      <td>WASHINGTON (Reuters) - Vice President Joe Bide...</td>\n",
       "      <td>politicsNews</td>\n",
       "      <td>January 12, 2017</td>\n",
       "    </tr>\n",
       "    <tr>\n",
       "      <th>5372</th>\n",
       "      <td>Illinois governor's bid to sell state-owned hi...</td>\n",
       "      <td>CHICAGO (Reuters) - One of the key players in ...</td>\n",
       "      <td>politicsNews</td>\n",
       "      <td>February 17, 2017</td>\n",
       "    </tr>\n",
       "  </tbody>\n",
       "</table>\n",
       "</div>"
      ],
      "text/plain": [
       "                                                   title  \\\n",
       "12246  Trump discusses North Korea situation with Put...   \n",
       "1763   Former Trump adviser Flynn's son being probed ...   \n",
       "19231  Iraq asks U.N. for help to build new nuclear p...   \n",
       "6371   Biden knocks Trump for Nazi reference, critici...   \n",
       "5372   Illinois governor's bid to sell state-owned hi...   \n",
       "\n",
       "                                                    text       subject  \\\n",
       "12246  WASHINGTON (Reuters) - U.S. President Trump sp...     worldnews   \n",
       "1763   WASHINGTON (Reuters) - The son of U.S. Preside...  politicsNews   \n",
       "19231  NEW YORK (Reuters) - Iraq asked on Saturday fo...     worldnews   \n",
       "6371   WASHINGTON (Reuters) - Vice President Joe Bide...  politicsNews   \n",
       "5372   CHICAGO (Reuters) - One of the key players in ...  politicsNews   \n",
       "\n",
       "                      date  \n",
       "12246   December 14, 2017   \n",
       "1763   September 13, 2017   \n",
       "19231  September 23, 2017   \n",
       "6371     January 12, 2017   \n",
       "5372    February 17, 2017   "
      ]
     },
     "execution_count": 3,
     "metadata": {},
     "output_type": "execute_result"
    }
   ],
   "source": [
    "true_df.sample(5)"
   ]
  },
  {
   "cell_type": "code",
   "execution_count": 4,
   "metadata": {},
   "outputs": [
    {
     "data": {
      "text/html": [
       "<div>\n",
       "<style scoped>\n",
       "    .dataframe tbody tr th:only-of-type {\n",
       "        vertical-align: middle;\n",
       "    }\n",
       "\n",
       "    .dataframe tbody tr th {\n",
       "        vertical-align: top;\n",
       "    }\n",
       "\n",
       "    .dataframe thead th {\n",
       "        text-align: right;\n",
       "    }\n",
       "</style>\n",
       "<table border=\"1\" class=\"dataframe\">\n",
       "  <thead>\n",
       "    <tr style=\"text-align: right;\">\n",
       "      <th></th>\n",
       "      <th>title</th>\n",
       "      <th>text</th>\n",
       "      <th>subject</th>\n",
       "      <th>date</th>\n",
       "    </tr>\n",
       "  </thead>\n",
       "  <tbody>\n",
       "    <tr>\n",
       "      <th>13848</th>\n",
       "      <td>BREAKING: FBI INVESTIGATING Clinton Crony Virg...</td>\n",
       "      <td>It s no secret that Terry McAuliffe is closely...</td>\n",
       "      <td>politics</td>\n",
       "      <td>May 23, 2016</td>\n",
       "    </tr>\n",
       "    <tr>\n",
       "      <th>13527</th>\n",
       "      <td>ONLY DAYS AGO…BATON ROUGE THUG, #BlackLives Ma...</td>\n",
       "      <td>This thug doesn t just threaten to KILL COPS h...</td>\n",
       "      <td>politics</td>\n",
       "      <td>Jul 13, 2016</td>\n",
       "    </tr>\n",
       "    <tr>\n",
       "      <th>17253</th>\n",
       "      <td>[VIDEO] OUR DIVIDER IN CHIEF, BARACK OBAMA, IN...</td>\n",
       "      <td>Our 44th President just doing his part to keep...</td>\n",
       "      <td>Government News</td>\n",
       "      <td>Jun 22, 2015</td>\n",
       "    </tr>\n",
       "    <tr>\n",
       "      <th>23076</th>\n",
       "      <td>SOUR GRAPES? Whatever happened to the ‘smooth ...</td>\n",
       "      <td>Andrew Malcolm McClatchy News You better stop...</td>\n",
       "      <td>Middle-east</td>\n",
       "      <td>January 3, 2017</td>\n",
       "    </tr>\n",
       "    <tr>\n",
       "      <th>8878</th>\n",
       "      <td>Ted Cruz Performed A Totally Awkward JFK Impr...</td>\n",
       "      <td>Someone, at some point in time, made the mista...</td>\n",
       "      <td>News</td>\n",
       "      <td>January 8, 2016</td>\n",
       "    </tr>\n",
       "  </tbody>\n",
       "</table>\n",
       "</div>"
      ],
      "text/plain": [
       "                                                   title  \\\n",
       "13848  BREAKING: FBI INVESTIGATING Clinton Crony Virg...   \n",
       "13527  ONLY DAYS AGO…BATON ROUGE THUG, #BlackLives Ma...   \n",
       "17253  [VIDEO] OUR DIVIDER IN CHIEF, BARACK OBAMA, IN...   \n",
       "23076  SOUR GRAPES? Whatever happened to the ‘smooth ...   \n",
       "8878    Ted Cruz Performed A Totally Awkward JFK Impr...   \n",
       "\n",
       "                                                    text          subject  \\\n",
       "13848  It s no secret that Terry McAuliffe is closely...         politics   \n",
       "13527  This thug doesn t just threaten to KILL COPS h...         politics   \n",
       "17253  Our 44th President just doing his part to keep...  Government News   \n",
       "23076   Andrew Malcolm McClatchy News You better stop...      Middle-east   \n",
       "8878   Someone, at some point in time, made the mista...             News   \n",
       "\n",
       "                  date  \n",
       "13848     May 23, 2016  \n",
       "13527     Jul 13, 2016  \n",
       "17253     Jun 22, 2015  \n",
       "23076  January 3, 2017  \n",
       "8878   January 8, 2016  "
      ]
     },
     "execution_count": 4,
     "metadata": {},
     "output_type": "execute_result"
    }
   ],
   "source": [
    "false_df.sample(5)"
   ]
  },
  {
   "cell_type": "markdown",
   "metadata": {},
   "source": [
    "### Concatenateing the dataset"
   ]
  },
  {
   "cell_type": "code",
   "execution_count": 5,
   "metadata": {},
   "outputs": [
    {
     "data": {
      "text/html": [
       "<div>\n",
       "<style scoped>\n",
       "    .dataframe tbody tr th:only-of-type {\n",
       "        vertical-align: middle;\n",
       "    }\n",
       "\n",
       "    .dataframe tbody tr th {\n",
       "        vertical-align: top;\n",
       "    }\n",
       "\n",
       "    .dataframe thead th {\n",
       "        text-align: right;\n",
       "    }\n",
       "</style>\n",
       "<table border=\"1\" class=\"dataframe\">\n",
       "  <thead>\n",
       "    <tr style=\"text-align: right;\">\n",
       "      <th></th>\n",
       "      <th>title</th>\n",
       "      <th>text</th>\n",
       "      <th>subject</th>\n",
       "      <th>date</th>\n",
       "      <th>label</th>\n",
       "    </tr>\n",
       "  </thead>\n",
       "  <tbody>\n",
       "    <tr>\n",
       "      <th>14610</th>\n",
       "      <td>Lebanon's Hariri to fly to Paris within 48 hou...</td>\n",
       "      <td>BEIRUT (Reuters) - Lebanon s Saad al-Hariri is...</td>\n",
       "      <td>worldnews</td>\n",
       "      <td>November 16, 2017</td>\n",
       "      <td>1</td>\n",
       "    </tr>\n",
       "    <tr>\n",
       "      <th>16790</th>\n",
       "      <td>Iraqi Kurdish opposition party Gorran calls on...</td>\n",
       "      <td>BAGHDAD (Reuters) - Gorran, a main opposition ...</td>\n",
       "      <td>worldnews</td>\n",
       "      <td>October 22, 2017</td>\n",
       "      <td>1</td>\n",
       "    </tr>\n",
       "    <tr>\n",
       "      <th>23772</th>\n",
       "      <td>Trump Tweets A Douchey, Self-congratulatory “...</td>\n",
       "      <td>On Wednesday, Donald Trump kicked off his morn...</td>\n",
       "      <td>News</td>\n",
       "      <td>March 1, 2017</td>\n",
       "      <td>0</td>\n",
       "    </tr>\n",
       "    <tr>\n",
       "      <th>22178</th>\n",
       "      <td>ICE Agent Spills: We’re Targeting Children Fo...</td>\n",
       "      <td>Trumpers are rejoicing over the escalating act...</td>\n",
       "      <td>News</td>\n",
       "      <td>July 24, 2017</td>\n",
       "      <td>0</td>\n",
       "    </tr>\n",
       "    <tr>\n",
       "      <th>34134</th>\n",
       "      <td>NC REPUBLICAN HEADQUARTERS Firebombed By The T...</td>\n",
       "      <td>Hillsborough police are investigating an appar...</td>\n",
       "      <td>politics</td>\n",
       "      <td>Oct 16, 2016</td>\n",
       "      <td>0</td>\n",
       "    </tr>\n",
       "  </tbody>\n",
       "</table>\n",
       "</div>"
      ],
      "text/plain": [
       "                                                   title  \\\n",
       "14610  Lebanon's Hariri to fly to Paris within 48 hou...   \n",
       "16790  Iraqi Kurdish opposition party Gorran calls on...   \n",
       "23772   Trump Tweets A Douchey, Self-congratulatory “...   \n",
       "22178   ICE Agent Spills: We’re Targeting Children Fo...   \n",
       "34134  NC REPUBLICAN HEADQUARTERS Firebombed By The T...   \n",
       "\n",
       "                                                    text    subject  \\\n",
       "14610  BEIRUT (Reuters) - Lebanon s Saad al-Hariri is...  worldnews   \n",
       "16790  BAGHDAD (Reuters) - Gorran, a main opposition ...  worldnews   \n",
       "23772  On Wednesday, Donald Trump kicked off his morn...       News   \n",
       "22178  Trumpers are rejoicing over the escalating act...       News   \n",
       "34134  Hillsborough police are investigating an appar...   politics   \n",
       "\n",
       "                     date  label  \n",
       "14610  November 16, 2017       1  \n",
       "16790   October 22, 2017       1  \n",
       "23772       March 1, 2017      0  \n",
       "22178       July 24, 2017      0  \n",
       "34134        Oct 16, 2016      0  "
      ]
     },
     "execution_count": 5,
     "metadata": {},
     "output_type": "execute_result"
    }
   ],
   "source": [
    "# combine the two dataframes with a new column called \"label\"\n",
    "true_df[\"label\"] = 1\n",
    "false_df[\"label\"] = 0\n",
    "\n",
    "df = pd.concat([true_df, false_df], ignore_index=True)\n",
    "\n",
    "df.sample(5)"
   ]
  },
  {
   "cell_type": "code",
   "execution_count": 6,
   "metadata": {},
   "outputs": [
    {
     "data": {
      "text/plain": [
       "(44898, 5)"
      ]
     },
     "execution_count": 6,
     "metadata": {},
     "output_type": "execute_result"
    }
   ],
   "source": [
    "df.shape"
   ]
  },
  {
   "cell_type": "markdown",
   "metadata": {},
   "source": [
    "### Check whether dataset is balanced"
   ]
  },
  {
   "cell_type": "code",
   "execution_count": 8,
   "metadata": {},
   "outputs": [
    {
     "data": {
      "text/plain": [
       "label\n",
       "0    23481\n",
       "1    21417\n",
       "Name: count, dtype: int64"
      ]
     },
     "execution_count": 8,
     "metadata": {},
     "output_type": "execute_result"
    }
   ],
   "source": [
    "df.label.value_counts()"
   ]
  },
  {
   "cell_type": "code",
   "execution_count": 11,
   "metadata": {},
   "outputs": [
    {
     "data": {
      "image/png": "[encoded data removed]",
      "text/plain": [
       "<Figure size 640x480 with 1 Axes>"
      ]
     },
     "metadata": {},
     "output_type": "display_data"
    }
   ],
   "source": [
    "sns.countplot(x='label', data=df)\n",
    "\n",
    "# Add labels and a title\n",
    "plt.xlabel('Labels')\n",
    "plt.ylabel('Count')\n",
    "plt.title('Count of Labels')\n",
    "plt.show()"
   ]
  },
  {
   "cell_type": "markdown",
   "metadata": {},
   "source": [
    "### Data Preprocessing"
   ]
  },
  {
   "cell_type": "code",
   "execution_count": 12,
   "metadata": {},
   "outputs": [],
   "source": [
    "# make new col: processed_text = title + text\n",
    "df[\"processed_text\"] = df[\"title\"] + \" \" + df[\"text\"]"
   ]
  },
  {
   "cell_type": "code",
   "execution_count": 13,
   "metadata": {},
   "outputs": [
    {
     "data": {
      "text/html": [
       "<div>\n",
       "<style scoped>\n",
       "    .dataframe tbody tr th:only-of-type {\n",
       "        vertical-align: middle;\n",
       "    }\n",
       "\n",
       "    .dataframe tbody tr th {\n",
       "        vertical-align: top;\n",
       "    }\n",
       "\n",
       "    .dataframe thead th {\n",
       "        text-align: right;\n",
       "    }\n",
       "</style>\n",
       "<table border=\"1\" class=\"dataframe\">\n",
       "  <thead>\n",
       "    <tr style=\"text-align: right;\">\n",
       "      <th></th>\n",
       "      <th>processed_text</th>\n",
       "      <th>label</th>\n",
       "    </tr>\n",
       "  </thead>\n",
       "  <tbody>\n",
       "    <tr>\n",
       "      <th>15758</th>\n",
       "      <td>Kosovo calls for inquiry after citizens jailed...</td>\n",
       "      <td>1</td>\n",
       "    </tr>\n",
       "    <tr>\n",
       "      <th>18411</th>\n",
       "      <td>Turkey should follow West's lead on rights: au...</td>\n",
       "      <td>1</td>\n",
       "    </tr>\n",
       "    <tr>\n",
       "      <th>303</th>\n",
       "      <td>Trump ally Bannon campaigns for Moore in Alaba...</td>\n",
       "      <td>1</td>\n",
       "    </tr>\n",
       "    <tr>\n",
       "      <th>1352</th>\n",
       "      <td>Turkey summons U.S. embassy undersecretary, ca...</td>\n",
       "      <td>1</td>\n",
       "    </tr>\n",
       "    <tr>\n",
       "      <th>40152</th>\n",
       "      <td>WATCH: BIKERS FOR TRUMP Ready To Take A Stand ...</td>\n",
       "      <td>0</td>\n",
       "    </tr>\n",
       "  </tbody>\n",
       "</table>\n",
       "</div>"
      ],
      "text/plain": [
       "                                          processed_text  label\n",
       "15758  Kosovo calls for inquiry after citizens jailed...      1\n",
       "18411  Turkey should follow West's lead on rights: au...      1\n",
       "303    Trump ally Bannon campaigns for Moore in Alaba...      1\n",
       "1352   Turkey summons U.S. embassy undersecretary, ca...      1\n",
       "40152  WATCH: BIKERS FOR TRUMP Ready To Take A Stand ...      0"
      ]
     },
     "execution_count": 13,
     "metadata": {},
     "output_type": "execute_result"
    }
   ],
   "source": [
    "required_cols = [\"processed_text\", \"label\"]\n",
    "df = df[required_cols]\n",
    "\n",
    "df.sample(5)"
   ]
  },
  {
   "cell_type": "code",
   "execution_count": 14,
   "metadata": {},
   "outputs": [],
   "source": [
    "# do some basic preprocessing, lower, remove stop words, \n",
    "\n",
    "df[\"processed_text\"] = df[\"processed_text\"].str.lower()\n",
    "df[\"processed_text\"] = df[\"processed_text\"].str.replace(r'[^\\w\\s]', '')\n",
    "df[\"processed_text\"] = df[\"processed_text\"].str.replace(r'\\s+', ' ')"
   ]
  },
  {
   "cell_type": "code",
   "execution_count": 15,
   "metadata": {},
   "outputs": [
    {
     "data": {
      "text/html": [
       "<div>\n",
       "<style scoped>\n",
       "    .dataframe tbody tr th:only-of-type {\n",
       "        vertical-align: middle;\n",
       "    }\n",
       "\n",
       "    .dataframe tbody tr th {\n",
       "        vertical-align: top;\n",
       "    }\n",
       "\n",
       "    .dataframe thead th {\n",
       "        text-align: right;\n",
       "    }\n",
       "</style>\n",
       "<table border=\"1\" class=\"dataframe\">\n",
       "  <thead>\n",
       "    <tr style=\"text-align: right;\">\n",
       "      <th></th>\n",
       "      <th>processed_text</th>\n",
       "      <th>label</th>\n",
       "    </tr>\n",
       "  </thead>\n",
       "  <tbody>\n",
       "    <tr>\n",
       "      <th>25255</th>\n",
       "      <td>top first amendment lawyer makes mind-blowing...</td>\n",
       "      <td>0</td>\n",
       "    </tr>\n",
       "    <tr>\n",
       "      <th>19513</th>\n",
       "      <td>martinique escapes brunt of hurricane maria, g...</td>\n",
       "      <td>1</td>\n",
       "    </tr>\n",
       "    <tr>\n",
       "      <th>39461</th>\n",
       "      <td>is north korea’s kim jong-un considering using...</td>\n",
       "      <td>0</td>\n",
       "    </tr>\n",
       "    <tr>\n",
       "      <th>31907</th>\n",
       "      <td>“harry, harry!” crowd yells military hero’s na...</td>\n",
       "      <td>0</td>\n",
       "    </tr>\n",
       "    <tr>\n",
       "      <th>34679</th>\n",
       "      <td>can hillary lie her way out of this one? physi...</td>\n",
       "      <td>0</td>\n",
       "    </tr>\n",
       "  </tbody>\n",
       "</table>\n",
       "</div>"
      ],
      "text/plain": [
       "                                          processed_text  label\n",
       "25255   top first amendment lawyer makes mind-blowing...      0\n",
       "19513  martinique escapes brunt of hurricane maria, g...      1\n",
       "39461  is north korea’s kim jong-un considering using...      0\n",
       "31907  “harry, harry!” crowd yells military hero’s na...      0\n",
       "34679  can hillary lie her way out of this one? physi...      0"
      ]
     },
     "execution_count": 15,
     "metadata": {},
     "output_type": "execute_result"
    }
   ],
   "source": [
    "df.sample(5)"
   ]
  },
  {
   "cell_type": "markdown",
   "metadata": {},
   "source": [
    "### Training with n-gram + navi-bayes"
   ]
  },
  {
   "cell_type": "code",
   "execution_count": 16,
   "metadata": {},
   "outputs": [
    {
     "name": "stdout",
     "output_type": "stream",
     "text": [
      "Evaluating different n-gram ranges with TF-IDF:\n",
      "\n",
      "Unigrams (n-gram range: (1, 1)):\n",
      "              precision    recall  f1-score   support\n",
      "\n",
      "           0       0.94      0.94      0.94      4650\n",
      "           1       0.94      0.93      0.93      4330\n",
      "\n",
      "    accuracy                           0.94      8980\n",
      "   macro avg       0.94      0.94      0.94      8980\n",
      "weighted avg       0.94      0.94      0.94      8980\n",
      "\n",
      "Accuracy: 0.9366\n",
      "\n",
      "Unigrams+Bigrams (n-gram range: (1, 2)):\n",
      "              precision    recall  f1-score   support\n",
      "\n",
      "           0       0.96      0.97      0.96      4650\n",
      "           1       0.96      0.96      0.96      4330\n",
      "\n",
      "    accuracy                           0.96      8980\n",
      "   macro avg       0.96      0.96      0.96      8980\n",
      "weighted avg       0.96      0.96      0.96      8980\n",
      "\n",
      "Accuracy: 0.9614\n",
      "\n",
      "Unigrams+Bigrams+Trigrams (n-gram range: (1, 3)):\n",
      "              precision    recall  f1-score   support\n",
      "\n",
      "           0       0.96      0.98      0.97      4650\n",
      "           1       0.97      0.96      0.97      4330\n",
      "\n",
      "    accuracy                           0.97      8980\n",
      "   macro avg       0.97      0.97      0.97      8980\n",
      "weighted avg       0.97      0.97      0.97      8980\n",
      "\n",
      "Accuracy: 0.9688\n",
      "\n",
      "Summary of n-gram performance:\n",
      "Unigrams: 0.9366\n",
      "Unigrams+Bigrams: 0.9614\n",
      "Unigrams+Bigrams+Trigrams: 0.9688\n"
     ]
    }
   ],
   "source": [
    "from sklearn.model_selection import train_test_split\n",
    "from sklearn.feature_extraction.text import TfidfVectorizer\n",
    "from sklearn.naive_bayes import MultinomialNB\n",
    "from sklearn.metrics import classification_report, accuracy_score\n",
    "\n",
    "# Split the data into train and test\n",
    "X_train, X_test, y_train, y_test = train_test_split(df[\"processed_text\"], df[\"label\"], test_size=0.2, random_state=42)\n",
    "\n",
    "print(\"Evaluating different n-gram ranges with TF-IDF:\")\n",
    "\n",
    "# Define n-gram ranges to try\n",
    "ngram_ranges = [(1, 1), (1, 2), (1, 3)]\n",
    "ngram_names = [\"Unigrams\", \"Unigrams+Bigrams\", \"Unigrams+Bigrams+Trigrams\"]\n",
    "\n",
    "# Store results for comparison\n",
    "results = []\n",
    "\n",
    "for i, (ngram_range, name) in enumerate(zip(ngram_ranges, ngram_names)):\n",
    "    print(f\"\\n{name} (n-gram range: {ngram_range}):\")\n",
    "    \n",
    "    # Use TF-IDF instead of CountVectorizer\n",
    "    vectorizer = TfidfVectorizer(stop_words='english', ngram_range=ngram_range)\n",
    "    X_train_vec = vectorizer.fit_transform(X_train)\n",
    "    X_test_vec = vectorizer.transform(X_test)\n",
    "    \n",
    "    # Train Naïve Bayes model\n",
    "    model = MultinomialNB()\n",
    "    model.fit(X_train_vec, y_train)\n",
    "    \n",
    "    # Predict on test data\n",
    "    y_pred = model.predict(X_test_vec)\n",
    "    \n",
    "    # Print classification report\n",
    "    print(classification_report(y_test, y_pred))\n",
    "    \n",
    "    # Calculate and print accuracy\n",
    "    accuracy = accuracy_score(y_test, y_pred)\n",
    "    print(f\"Accuracy: {accuracy:.4f}\")\n",
    "    \n",
    "    # Store results\n",
    "    results.append((name, accuracy))\n",
    "\n",
    "# Print summary of results\n",
    "print(\"\\nSummary of n-gram performance:\")\n",
    "for name, accuracy in results:\n",
    "    print(f\"{name}: {accuracy:.4f}\")\n"
   ]
  },
  {
   "cell_type": "code",
   "execution_count": 17,
   "metadata": {},
   "outputs": [
    {
     "data": {
      "image/png": "[encoded data removed]",
      "text/plain": [
       "<Figure size 800x600 with 2 Axes>"
      ]
     },
     "metadata": {},
     "output_type": "display_data"
    }
   ],
   "source": [
    "cm = confusion_matrix(y_test, y_pred)\n",
    "\n",
    "# Plot confusion matrix\n",
    "plt.figure(figsize=(8, 6))\n",
    "sns.heatmap(cm, annot=True, fmt='d', cmap='Blues', \n",
    "            xticklabels=['Fake (0)', 'Real (1)'], \n",
    "            yticklabels=['Fake (0)', 'Real (1)'])\n",
    "plt.xlabel('Predicted Label')\n",
    "plt.ylabel('True Label')\n",
    "plt.title('Confusion Matrix')\n",
    "plt.tight_layout()\n",
    "plt.show()"
   ]
  },
  {
   "cell_type": "markdown",
   "metadata": {},
   "source": [
    "### Training with KNN"
   ]
  },
  {
   "cell_type": "code",
   "execution_count": 18,
   "metadata": {},
   "outputs": [],
   "source": [
    "import matplotlib.pyplot as plt\n",
    "import seaborn as sns\n",
    "from sklearn.model_selection import train_test_split\n",
    "from sklearn.feature_extraction.text import TfidfVectorizer\n",
    "from sklearn.neighbors import KNeighborsClassifier\n",
    "from sklearn.metrics import accuracy_score, confusion_matrix\n",
    "\n",
    "# Split the data into train and test\n",
    "X_train, X_test, y_train, y_test = train_test_split(df[\"processed_text\"], df[\"label\"], random_state=42, test_size=0.2)"
   ]
  },
  {
   "cell_type": "code",
   "execution_count": null,
   "metadata": {},
   "outputs": [],
   "source": [
    "# TF-IDF Vectorization\n",
    "tfidf = TfidfVectorizer()  \n",
    "X_train_vec = tfidf.fit_transform(X_train)\n",
    "X_test_vec = tfidf.transform(X_test)\n"
   ]
  },
  {
   "cell_type": "code",
   "execution_count": 23,
   "metadata": {},
   "outputs": [
    {
     "name": "stdout",
     "output_type": "stream",
     "text": [
      "Accuracy Score: 0.8810\n"
     ]
    },
    {
     "data": {
      "image/png": "[encoded data removed]",
      "text/plain": [
       "<Figure size 600x500 with 2 Axes>"
      ]
     },
     "metadata": {},
     "output_type": "display_data"
    }
   ],
   "source": [
    "\n",
    "\n",
    "# Train KNN model (using cosine similarity)\n",
    "knn = KNeighborsClassifier(n_neighbors=5, metric='cosine')\n",
    "knn.fit(X_train_vec, y_train)\n",
    "\n",
    "# Predict on test data\n",
    "y_pred = knn.predict(X_test_vec)\n",
    "\n",
    "# Accuracy Score\n",
    "print(f'Accuracy Score: {accuracy_score(y_test, y_pred):.4f}')\n",
    "\n",
    "# Confusion Matrix\n",
    "cm = confusion_matrix(y_test, y_pred)\n",
    "\n",
    "# Plot Confusion Matrix using Matplotlib and Seaborn\n",
    "plt.figure(figsize=(6,5))\n",
    "sns.heatmap(cm, annot=True, fmt='d', cmap='Blues', xticklabels=set(y_test), yticklabels=set(y_test))\n",
    "plt.xlabel(\"Predicted Label\")\n",
    "plt.ylabel(\"True Label\")\n",
    "plt.title(\"Confusion Matrix - KNN\")\n",
    "plt.show()\n"
   ]
  },
  {
   "cell_type": "markdown",
   "metadata": {},
   "source": [
    "### Training with Decision tree"
   ]
  },
  {
   "cell_type": "code",
   "execution_count": 24,
   "metadata": {},
   "outputs": [
    {
     "name": "stdout",
     "output_type": "stream",
     "text": [
      "Accuracy Score: 0.9959\n",
      "\n",
      "Classification Report:\n",
      "\n",
      "              precision    recall  f1-score   support\n",
      "\n",
      "           0       1.00      1.00      1.00      4650\n",
      "           1       1.00      1.00      1.00      4330\n",
      "\n",
      "    accuracy                           1.00      8980\n",
      "   macro avg       1.00      1.00      1.00      8980\n",
      "weighted avg       1.00      1.00      1.00      8980\n",
      "\n"
     ]
    },
    {
     "data": {
      "image/png": "[encoded data removed]",
      "text/plain": [
       "<Figure size 600x500 with 2 Axes>"
      ]
     },
     "metadata": {},
     "output_type": "display_data"
    }
   ],
   "source": [
    "from sklearn.tree import DecisionTreeClassifier\n",
    "\n",
    "# Train Decision Tree model\n",
    "dt = DecisionTreeClassifier(random_state=42)\n",
    "dt.fit(X_train_vec, y_train)\n",
    "\n",
    "# Predict on test data\n",
    "y_pred = dt.predict(X_test_vec)\n",
    "\n",
    "# Accuracy Score\n",
    "print(f'Accuracy Score: {accuracy_score(y_test, y_pred):.4f}')\n",
    "\n",
    "# Classification Report\n",
    "print(\"\\nClassification Report:\\n\")\n",
    "print(classification_report(y_test, y_pred))\n",
    "\n",
    "# Confusion Matrix\n",
    "cm = confusion_matrix(y_test, y_pred)\n",
    "\n",
    "# Plot Confusion Matrix using Matplotlib and Seaborn\n",
    "plt.figure(figsize=(6,5))\n",
    "sns.heatmap(cm, annot=True, fmt='d', cmap='Blues', xticklabels=set(y_test), yticklabels=set(y_test))\n",
    "plt.xlabel(\"Predicted Label\")\n",
    "plt.ylabel(\"True Label\")\n",
    "plt.title(\"Confusion Matrix - Decision Tree\")\n",
    "plt.show()"
   ]
  },
  {
   "cell_type": "markdown",
   "metadata": {},
   "source": [
    "### Training with Random Forest"
   ]
  },
  {
   "cell_type": "code",
   "execution_count": 25,
   "metadata": {},
   "outputs": [
    {
     "name": "stdout",
     "output_type": "stream",
     "text": [
      "Accuracy Score: 0.9928\n",
      "\n",
      "Classification Report:\n",
      "\n",
      "              precision    recall  f1-score   support\n",
      "\n",
      "           0       0.99      0.99      0.99      4650\n",
      "           1       0.99      0.99      0.99      4330\n",
      "\n",
      "    accuracy                           0.99      8980\n",
      "   macro avg       0.99      0.99      0.99      8980\n",
      "weighted avg       0.99      0.99      0.99      8980\n",
      "\n"
     ]
    },
    {
     "data": {
      "image/png": "[encoded data removed]",
      "text/plain": [
       "<Figure size 600x500 with 2 Axes>"
      ]
     },
     "metadata": {},
     "output_type": "display_data"
    }
   ],
   "source": [
    "# Train Random Forest model\n",
    "rf = RandomForestClassifier(n_estimators=100, random_state=42)  # You can adjust n_estimators\n",
    "rf.fit(X_train_vec, y_train)\n",
    "\n",
    "# Predict on test data\n",
    "y_pred = rf.predict(X_test_vec)\n",
    "\n",
    "# Accuracy Score\n",
    "print(f'Accuracy Score: {accuracy_score(y_test, y_pred):.4f}')\n",
    "\n",
    "# Classification Report\n",
    "print(\"\\nClassification Report:\\n\")\n",
    "print(classification_report(y_test, y_pred))\n",
    "\n",
    "# Confusion Matrix\n",
    "cm = confusion_matrix(y_test, y_pred)\n",
    "\n",
    "# Plot Confusion Matrix using Matplotlib and Seaborn\n",
    "plt.figure(figsize=(6,5))\n",
    "sns.heatmap(cm, annot=True, fmt='d', cmap='Blues', xticklabels=set(y_test), yticklabels=set(y_test))\n",
    "plt.xlabel(\"Predicted Label\")\n",
    "plt.ylabel(\"True Label\")\n",
    "plt.title(\"Confusion Matrix - Random Forest\")\n",
    "plt.show()"
   ]
  }
 ],
 "metadata": {
  "kernelspec": {
   "display_name": "torchenv",
   "language": "python",
   "name": "python3"
  },
  "language_info": {
   "codemirror_mode": {
    "name": "ipython",
    "version": 3
   },
   "file_extension": ".py",
   "mimetype": "text/x-python",
   "name": "python",
   "nbconvert_exporter": "python",
   "pygments_lexer": "ipython3",
   "version": "3.12.5"
  }
 },
 "nbformat": 4,
 "nbformat_minor": 2
}
